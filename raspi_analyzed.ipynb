{
 "cells": [
  {
   "cell_type": "code",
   "execution_count": 1,
   "metadata": {},
   "outputs": [
    {
     "data": {
      "text/html": [
       "<div>\n",
       "<style scoped>\n",
       "    .dataframe tbody tr th:only-of-type {\n",
       "        vertical-align: middle;\n",
       "    }\n",
       "\n",
       "    .dataframe tbody tr th {\n",
       "        vertical-align: top;\n",
       "    }\n",
       "\n",
       "    .dataframe thead th {\n",
       "        text-align: right;\n",
       "    }\n",
       "</style>\n",
       "<table border=\"1\" class=\"dataframe\">\n",
       "  <thead>\n",
       "    <tr style=\"text-align: right;\">\n",
       "      <th></th>\n",
       "      <th>total</th>\n",
       "      <th>available</th>\n",
       "      <th>percent</th>\n",
       "      <th>used</th>\n",
       "      <th>free</th>\n",
       "      <th>active</th>\n",
       "      <th>inactive</th>\n",
       "      <th>buffers</th>\n",
       "      <th>cached</th>\n",
       "      <th>shared</th>\n",
       "      <th>slab</th>\n",
       "      <th>timestamp</th>\n",
       "    </tr>\n",
       "  </thead>\n",
       "  <tbody>\n",
       "    <tr>\n",
       "      <th>0</th>\n",
       "      <td>8231768064</td>\n",
       "      <td>656953344</td>\n",
       "      <td>92.0</td>\n",
       "      <td>6115639296</td>\n",
       "      <td>139862016</td>\n",
       "      <td>2113859584</td>\n",
       "      <td>5238013952</td>\n",
       "      <td>47185920</td>\n",
       "      <td>1929080832</td>\n",
       "      <td>1167478784</td>\n",
       "      <td>300666880</td>\n",
       "      <td>2021-09-11 21:16:39.101983</td>\n",
       "    </tr>\n",
       "    <tr>\n",
       "      <th>1</th>\n",
       "      <td>8231768064</td>\n",
       "      <td>656207872</td>\n",
       "      <td>92.0</td>\n",
       "      <td>6116356096</td>\n",
       "      <td>140378112</td>\n",
       "      <td>2113859584</td>\n",
       "      <td>5237104640</td>\n",
       "      <td>47185920</td>\n",
       "      <td>1927847936</td>\n",
       "      <td>1167478784</td>\n",
       "      <td>300666880</td>\n",
       "      <td>2021-09-11 21:16:39.106612</td>\n",
       "    </tr>\n",
       "    <tr>\n",
       "      <th>2</th>\n",
       "      <td>8231768064</td>\n",
       "      <td>729128960</td>\n",
       "      <td>91.1</td>\n",
       "      <td>6058627072</td>\n",
       "      <td>224620544</td>\n",
       "      <td>2120364032</td>\n",
       "      <td>5155483648</td>\n",
       "      <td>45801472</td>\n",
       "      <td>1902718976</td>\n",
       "      <td>1152180224</td>\n",
       "      <td>300896256</td>\n",
       "      <td>2021-09-11 21:17:39.169346</td>\n",
       "    </tr>\n",
       "    <tr>\n",
       "      <th>3</th>\n",
       "      <td>8231768064</td>\n",
       "      <td>726630400</td>\n",
       "      <td>91.2</td>\n",
       "      <td>6058893312</td>\n",
       "      <td>221548544</td>\n",
       "      <td>2151141376</td>\n",
       "      <td>5126684672</td>\n",
       "      <td>45924352</td>\n",
       "      <td>1905401856</td>\n",
       "      <td>1154404352</td>\n",
       "      <td>300969984</td>\n",
       "      <td>2021-09-11 21:18:39.181644</td>\n",
       "    </tr>\n",
       "    <tr>\n",
       "      <th>4</th>\n",
       "      <td>8231768064</td>\n",
       "      <td>967098368</td>\n",
       "      <td>88.3</td>\n",
       "      <td>5824544768</td>\n",
       "      <td>458522624</td>\n",
       "      <td>2151714816</td>\n",
       "      <td>4859400192</td>\n",
       "      <td>46284800</td>\n",
       "      <td>1902415872</td>\n",
       "      <td>1148301312</td>\n",
       "      <td>300806144</td>\n",
       "      <td>2021-09-11 21:19:39.210133</td>\n",
       "    </tr>\n",
       "  </tbody>\n",
       "</table>\n",
       "</div>"
      ],
      "text/plain": [
       "        total  available  percent        used       free      active  \\\n",
       "0  8231768064  656953344     92.0  6115639296  139862016  2113859584   \n",
       "1  8231768064  656207872     92.0  6116356096  140378112  2113859584   \n",
       "2  8231768064  729128960     91.1  6058627072  224620544  2120364032   \n",
       "3  8231768064  726630400     91.2  6058893312  221548544  2151141376   \n",
       "4  8231768064  967098368     88.3  5824544768  458522624  2151714816   \n",
       "\n",
       "     inactive   buffers      cached      shared       slab  \\\n",
       "0  5238013952  47185920  1929080832  1167478784  300666880   \n",
       "1  5237104640  47185920  1927847936  1167478784  300666880   \n",
       "2  5155483648  45801472  1902718976  1152180224  300896256   \n",
       "3  5126684672  45924352  1905401856  1154404352  300969984   \n",
       "4  4859400192  46284800  1902415872  1148301312  300806144   \n",
       "\n",
       "                    timestamp  \n",
       "0  2021-09-11 21:16:39.101983  \n",
       "1  2021-09-11 21:16:39.106612  \n",
       "2  2021-09-11 21:17:39.169346  \n",
       "3  2021-09-11 21:18:39.181644  \n",
       "4  2021-09-11 21:19:39.210133  "
      ]
     },
     "execution_count": 1,
     "metadata": {},
     "output_type": "execute_result"
    }
   ],
   "source": [
    "import pandas as pd\n",
    "import matplotlib.pyplot as plt\n",
    "from matplotlib.dates import date2num\n",
    "df = pd.read_csv('my_csv.csv')\n",
    "df.drop(columns=\"Unnamed: 0\", inplace=True)\n",
    "df.head(5)"
   ]
  },
  {
   "cell_type": "code",
   "execution_count": 2,
   "metadata": {},
   "outputs": [
    {
     "data": {
      "text/plain": [
       "Index(['total', 'available', 'percent', 'used', 'free', 'active', 'inactive',\n",
       "       'buffers', 'cached', 'shared', 'slab', 'timestamp'],\n",
       "      dtype='object')"
      ]
     },
     "execution_count": 2,
     "metadata": {},
     "output_type": "execute_result"
    }
   ],
   "source": [
    "df.columns"
   ]
  },
  {
   "cell_type": "code",
   "execution_count": 3,
   "metadata": {},
   "outputs": [
    {
     "data": {
      "text/html": [
       "<div>\n",
       "<style scoped>\n",
       "    .dataframe tbody tr th:only-of-type {\n",
       "        vertical-align: middle;\n",
       "    }\n",
       "\n",
       "    .dataframe tbody tr th {\n",
       "        vertical-align: top;\n",
       "    }\n",
       "\n",
       "    .dataframe thead th {\n",
       "        text-align: right;\n",
       "    }\n",
       "</style>\n",
       "<table border=\"1\" class=\"dataframe\">\n",
       "  <thead>\n",
       "    <tr style=\"text-align: right;\">\n",
       "      <th></th>\n",
       "      <th>total</th>\n",
       "      <th>available</th>\n",
       "      <th>percent</th>\n",
       "      <th>used</th>\n",
       "      <th>free</th>\n",
       "      <th>active</th>\n",
       "      <th>inactive</th>\n",
       "      <th>buffers</th>\n",
       "      <th>cached</th>\n",
       "      <th>shared</th>\n",
       "      <th>slab</th>\n",
       "      <th>timestamp</th>\n",
       "    </tr>\n",
       "  </thead>\n",
       "  <tbody>\n",
       "    <tr>\n",
       "      <th>0</th>\n",
       "      <td>8231768064</td>\n",
       "      <td>656953344</td>\n",
       "      <td>92.0</td>\n",
       "      <td>6115639296</td>\n",
       "      <td>139862016</td>\n",
       "      <td>2113859584</td>\n",
       "      <td>5238013952</td>\n",
       "      <td>47185920</td>\n",
       "      <td>1929080832</td>\n",
       "      <td>1167478784</td>\n",
       "      <td>300666880</td>\n",
       "      <td>2021-09-11 21:16:39.101983</td>\n",
       "    </tr>\n",
       "    <tr>\n",
       "      <th>1</th>\n",
       "      <td>8231768064</td>\n",
       "      <td>656207872</td>\n",
       "      <td>92.0</td>\n",
       "      <td>6116356096</td>\n",
       "      <td>140378112</td>\n",
       "      <td>2113859584</td>\n",
       "      <td>5237104640</td>\n",
       "      <td>47185920</td>\n",
       "      <td>1927847936</td>\n",
       "      <td>1167478784</td>\n",
       "      <td>300666880</td>\n",
       "      <td>2021-09-11 21:16:39.106612</td>\n",
       "    </tr>\n",
       "    <tr>\n",
       "      <th>2</th>\n",
       "      <td>8231768064</td>\n",
       "      <td>729128960</td>\n",
       "      <td>91.1</td>\n",
       "      <td>6058627072</td>\n",
       "      <td>224620544</td>\n",
       "      <td>2120364032</td>\n",
       "      <td>5155483648</td>\n",
       "      <td>45801472</td>\n",
       "      <td>1902718976</td>\n",
       "      <td>1152180224</td>\n",
       "      <td>300896256</td>\n",
       "      <td>2021-09-11 21:17:39.169346</td>\n",
       "    </tr>\n",
       "    <tr>\n",
       "      <th>3</th>\n",
       "      <td>8231768064</td>\n",
       "      <td>726630400</td>\n",
       "      <td>91.2</td>\n",
       "      <td>6058893312</td>\n",
       "      <td>221548544</td>\n",
       "      <td>2151141376</td>\n",
       "      <td>5126684672</td>\n",
       "      <td>45924352</td>\n",
       "      <td>1905401856</td>\n",
       "      <td>1154404352</td>\n",
       "      <td>300969984</td>\n",
       "      <td>2021-09-11 21:18:39.181644</td>\n",
       "    </tr>\n",
       "    <tr>\n",
       "      <th>4</th>\n",
       "      <td>8231768064</td>\n",
       "      <td>967098368</td>\n",
       "      <td>88.3</td>\n",
       "      <td>5824544768</td>\n",
       "      <td>458522624</td>\n",
       "      <td>2151714816</td>\n",
       "      <td>4859400192</td>\n",
       "      <td>46284800</td>\n",
       "      <td>1902415872</td>\n",
       "      <td>1148301312</td>\n",
       "      <td>300806144</td>\n",
       "      <td>2021-09-11 21:19:39.210133</td>\n",
       "    </tr>\n",
       "  </tbody>\n",
       "</table>\n",
       "</div>"
      ],
      "text/plain": [
       "        total  available  percent        used       free      active  \\\n",
       "0  8231768064  656953344     92.0  6115639296  139862016  2113859584   \n",
       "1  8231768064  656207872     92.0  6116356096  140378112  2113859584   \n",
       "2  8231768064  729128960     91.1  6058627072  224620544  2120364032   \n",
       "3  8231768064  726630400     91.2  6058893312  221548544  2151141376   \n",
       "4  8231768064  967098368     88.3  5824544768  458522624  2151714816   \n",
       "\n",
       "     inactive   buffers      cached      shared       slab  \\\n",
       "0  5238013952  47185920  1929080832  1167478784  300666880   \n",
       "1  5237104640  47185920  1927847936  1167478784  300666880   \n",
       "2  5155483648  45801472  1902718976  1152180224  300896256   \n",
       "3  5126684672  45924352  1905401856  1154404352  300969984   \n",
       "4  4859400192  46284800  1902415872  1148301312  300806144   \n",
       "\n",
       "                   timestamp  \n",
       "0 2021-09-11 21:16:39.101983  \n",
       "1 2021-09-11 21:16:39.106612  \n",
       "2 2021-09-11 21:17:39.169346  \n",
       "3 2021-09-11 21:18:39.181644  \n",
       "4 2021-09-11 21:19:39.210133  "
      ]
     },
     "execution_count": 3,
     "metadata": {},
     "output_type": "execute_result"
    }
   ],
   "source": [
    "df[\"timestamp\"] = pd.to_datetime(df[\"timestamp\"])\n",
    "df.head(5)"
   ]
  },
  {
   "cell_type": "code",
   "execution_count": 6,
   "metadata": {},
   "outputs": [
    {
     "data": {
      "text/plain": [
       "[<matplotlib.lines.Line2D at 0x7f586d314370>]"
      ]
     },
     "execution_count": 6,
     "metadata": {},
     "output_type": "execute_result"
    },
    {
     "data": {
      "image/png": "[encoded data removed]",
      "text/plain": [
       "<Figure size 432x288 with 1 Axes>"
      ]
     },
     "metadata": {
      "needs_background": "light"
     },
     "output_type": "display_data"
    }
   ],
   "source": [
    "# dates = date2num(df['timestamp'].tolist())\n",
    "plt.plot(df['timestamp'], (df['free']/df['total'])*100)"
   ]
  },
  {
   "cell_type": "code",
   "execution_count": 8,
   "metadata": {},
   "outputs": [
    {
     "data": {
      "text/plain": [
       "(Timestamp('2021-09-11 21:16:39.101983'),\n",
       " Timestamp('2021-09-15 20:58:51.810094'))"
      ]
     },
     "execution_count": 8,
     "metadata": {},
     "output_type": "execute_result"
    }
   ],
   "source": [
    "df[\"timestamp\"].min(), df[\"timestamp\"].max()"
   ]
  },
  {
   "cell_type": "code",
   "execution_count": 9,
   "metadata": {},
   "outputs": [
    {
     "data": {
      "text/plain": [
       "Timedelta('3 days 23:42:12.708111')"
      ]
     },
     "execution_count": 9,
     "metadata": {},
     "output_type": "execute_result"
    }
   ],
   "source": [
    "df[\"timestamp\"].max() - df[\"timestamp\"].min()"
   ]
  },
  {
   "cell_type": "code",
   "execution_count": 13,
   "metadata": {},
   "outputs": [
    {
     "data": {
      "text/plain": [
       "<AxesSubplot:xlabel='timestamp'>"
      ]
     },
     "execution_count": 13,
     "metadata": {},
     "output_type": "execute_result"
    },
    {
     "data": {
      "image/png": "[encoded data removed]",
      "text/plain": [
       "<Figure size 864x288 with 1 Axes>"
      ]
     },
     "metadata": {
      "needs_background": "light"
     },
     "output_type": "display_data"
    }
   ],
   "source": [
    "fig, axs = plt.subplots(figsize=(12, 4))\n",
    "df.groupby(df[\"timestamp\"].dt.hour)[\"used\"].mean().plot(\n",
    "    kind='bar', rot=0, ax=axs)"
   ]
  },
  {
   "cell_type": "code",
   "execution_count": null,
   "metadata": {},
   "outputs": [],
   "source": []
  }
 ],
 "metadata": {
  "interpreter": {
   "hash": "353a104408c39c59985549d1d76a13814560d9c71d51477145c897464b4cd8d4"
  },
  "kernelspec": {
   "display_name": "Python 3.8.10 64-bit ('env': venv)",
   "name": "python3"
  },
  "language_info": {
   "codemirror_mode": {
    "name": "ipython",
    "version": 3
   },
   "file_extension": ".py",
   "mimetype": "text/x-python",
   "name": "python",
   "nbconvert_exporter": "python",
   "pygments_lexer": "ipython3",
   "version": "3.8.10"
  },
  "orig_nbformat": 4
 },
 "nbformat": 4,
 "nbformat_minor": 2
}
